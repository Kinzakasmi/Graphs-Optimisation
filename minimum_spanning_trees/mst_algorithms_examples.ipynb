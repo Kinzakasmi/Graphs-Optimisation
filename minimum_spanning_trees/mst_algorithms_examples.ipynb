{
 "cells": [
  {
   "cell_type": "code",
   "execution_count": 14,
   "source": [
    "import networkx as nx\r\n",
    "from utils import plot_graph, plot_solution\r\n",
    "from kruskal import PointedStructure, UnionFind, kruskal \r\n",
    "from prim import prim\r\n",
    "import numpy as np"
   ],
   "outputs": [],
   "metadata": {}
  },
  {
   "cell_type": "markdown",
   "source": [
    "# Initializing a simple testing graph"
   ],
   "metadata": {}
  },
  {
   "cell_type": "code",
   "execution_count": 2,
   "source": [
    "g = nx.Graph()\r\n",
    "\r\n",
    "g.add_node(\"W\", pos=(1,0))\r\n",
    "g.add_node(\"1\", pos=(2,1))\r\n",
    "g.add_node(\"2\", pos=(2,2))\r\n",
    "g.add_node(\"3\", pos=(0,1))\r\n",
    "g.add_node(\"4\", pos=(0,2))\r\n",
    "\r\n",
    "g.add_weighted_edges_from([[\"W\", \"1\", 1], [\"W\", \"2\", 5], [\"W\", \"3\", 3], \r\n",
    "                           [\"W\", \"4\", 4], [\"1\", \"2\", 5], [\"1\", \"3\", 2],\r\n",
    "                           [\"1\", \"4\", 5], [\"2\", \"3\", 3], [\"2\", \"4\", 4], [\"3\", \"4\", 2]])\r\n",
    "                          \r\n",
    "plot_graph(g)"
   ],
   "outputs": [
    {
     "output_type": "display_data",
     "data": {
      "image/png": "[encoded data removed]",
      "text/plain": [
       "<Figure size 432x288 with 1 Axes>"
      ]
     },
     "metadata": {}
    }
   ],
   "metadata": {}
  },
  {
   "cell_type": "code",
   "execution_count": 8,
   "source": [
    "sol_k = kruskal(g)\r\n",
    "sol_p = prim(g)\r\n",
    "\r\n",
    "print(sol_k)\r\n",
    "print(sol_p)"
   ],
   "outputs": [
    {
     "output_type": "stream",
     "name": "stdout",
     "text": [
      "[('W', '1'), ('1', '3'), ('3', '4'), ('2', '3')]\n",
      "[('W', '1'), ('3', '2'), ('1', '3'), ('3', '4')]\n"
     ]
    }
   ],
   "metadata": {}
  },
  {
   "cell_type": "markdown",
   "source": [
    "# Read data from file"
   ],
   "metadata": {}
  },
  {
   "cell_type": "code",
   "execution_count": 10,
   "source": [
    "import sys\r\n",
    "\r\n",
    "def read(data_file):\r\n",
    "    data_file = open(data_file)\r\n",
    "    # first line is total number of vertices in file and number of edges\r\n",
    "    (nb_v, nb_e) = data_file.readline().split(' ')\r\n",
    "\r\n",
    "    print(\"expected number of vertices : {0}\".format(nb_v))\r\n",
    "    print(\"expected number of edges : {0}\\n\".format(nb_e))\r\n",
    "    \r\n",
    "    g = nx.Graph()\r\n",
    "\r\n",
    "    # each line contains an edge\r\n",
    "    for line in data_file:\r\n",
    "        (start, end, cost) = line[:-1].split(' ')\r\n",
    "        g.add_weighted_edges_from([[str(start),str(end),int(cost)]])\r\n",
    "        #print(\"edge from {0} to {1} with cost {2}\".format(start, end, cost))\r\n",
    "    return(g)\r\n",
    "        \r\n",
    "g_test = read(\"data/edges.txt\")\r\n",
    "\r\n",
    "print(\"number of vertices : \",len(list(g_test.nodes())))\r\n",
    "print(\"number of edges : \",len(list(g_test.edges())))"
   ],
   "outputs": [
    {
     "output_type": "stream",
     "name": "stdout",
     "text": [
      "expected number of vertices : 500\n",
      "expected number of edges : 2184\n",
      "\n",
      "\n",
      "number of vertices :  500\n",
      "number of edges :  2184\n"
     ]
    }
   ],
   "metadata": {}
  },
  {
   "cell_type": "markdown",
   "source": [
    "# Test of Prim's algorithm"
   ],
   "metadata": {}
  },
  {
   "cell_type": "code",
   "execution_count": 15,
   "source": [
    "sol_p = prim(g_test)\r\n",
    "#plot_solution(sol_p)\r\n",
    "\r\n",
    "assert(sum(np.array([g_test.get_edge_data(a,b)[\"weight\"] for a,b in sol_p])) == -3612829)"
   ],
   "outputs": [],
   "metadata": {}
  },
  {
   "cell_type": "markdown",
   "source": [
    "# Test of Kruskal's algorithm"
   ],
   "metadata": {}
  },
  {
   "cell_type": "code",
   "execution_count": 16,
   "source": [
    "sol_k = kruskal(g_test)\r\n",
    "#plot_solution(sol_k)\r\n",
    "\r\n",
    "assert(sum(np.array([g_test.get_edge_data(a,b)[\"weight\"] for a,b in sol_k])) == -3612829)"
   ],
   "outputs": [],
   "metadata": {}
  }
 ],
 "metadata": {
  "kernelspec": {
   "name": "python3",
   "display_name": "Python 3.9.7 64-bit ('sdd': conda)"
  },
  "language_info": {
   "codemirror_mode": {
    "name": "ipython",
    "version": 3
   },
   "file_extension": ".py",
   "mimetype": "text/x-python",
   "name": "python",
   "nbconvert_exporter": "python",
   "pygments_lexer": "ipython3",
   "version": "3.9.7"
  },
  "interpreter": {
   "hash": "cbb6105d5ece3a9d4cb8dea6d130a7c99b37976ba45b56ad2497505e8839ccd5"
  }
 },
 "nbformat": 4,
 "nbformat_minor": 5
}